{
 "cells": [
  {
   "cell_type": "code",
   "execution_count": null,
   "metadata": {},
   "outputs": [
    {
     "name": "stdout",
     "output_type": "stream",
     "text": [
      "running telegram bot ...\n"
     ]
    }
   ],
   "source": [
    "\n",
    "#64859765\n",
    "\n",
    "\n",
    "import os\n",
    "import sys\n",
    "import traceback\n",
    "import tasks\n",
    "#import telegram\n",
    "from telegram.ext import Updater, Filters\n",
    "from telegram.ext import CommandHandler, ConversationHandler, MessageHandler\n",
    "\n",
    "#zoe_token = '770602880:AAGQsuy3uK-H5YCHqARjPKJnsmIIddwZ8TY'\n",
    "#zoe = telegram.Bot(token = zoe_token)\n",
    "#updates = zoe.getUpdates()\n",
    "#for u in updates:\n",
    "#    print(u.message)\n",
    "\n",
    "def start(bot, update): \n",
    "    chat_id = update.message.chat_id \n",
    "    text = update.message.text \n",
    "    bot.send_message(chat_id=chat_id, text=\"I'm a bot, please talk to me!\") \n",
    "\n",
    "def echo(bot, update): \n",
    "    chat_id = update.message.chat_id  # 대화방 ID \n",
    "    text = update.message.text \n",
    "    \n",
    "    bot.send_message(chat_id=chat_id, text=text) \n",
    "    \n",
    "    task_cls_list = [ \n",
    "        tasks.HelloTask, \n",
    "        tasks.NaverBlogSearchTask, \n",
    "    ] \n",
    " \n",
    "    try: \n",
    "        for task_cls in task_cls_list: \n",
    "            task = task_cls(text) \n",
    "            if task.is_valid(): \n",
    "                response = task.proc() \n",
    "                break \n",
    "            else: \n",
    "                response = '니가 무슨 말 하는 지 모르겠어. :('\n",
    "    except Exception as e: \n",
    "        response = '처리 중에 오류가 발생했어요. :(' \n",
    "        traceback.print_exc() \n",
    " \n",
    "    bot.send_message(chat_id=chat_id, text=response) \n",
    "\n",
    "def main(token): \n",
    "    bot = Updater(token=TOKEN) \n",
    "\n",
    "    handler = CommandHandler('start', start) \n",
    "    bot.dispatcher.add_handler(handler) \n",
    "\n",
    "    handler = MessageHandler(Filters.text, echo) \n",
    "    bot.dispatcher.add_handler(handler) \n",
    "\n",
    "    bot.start_polling() \n",
    " \n",
    "    print('running telegram bot ...') \n",
    "    bot.idle() \n",
    "\n",
    "if __name__ == '__main__': \n",
    "    TOKEN = \"770602880:AAGQsuy3uK-H5YCHqARjPKJnsmIIddwZ8TY\" \n",
    "    if TOKEN is None: \n",
    "        print('ERROR) TELEGRAM_TOKEN을 지정해주세요.', file=sys.stderr) \n",
    "        sys.exit(1) \n",
    "    main(TOKEN) \n"
   ]
  }
 ],
 "metadata": {
  "kernelspec": {
   "display_name": "Python 3",
   "language": "python",
   "name": "python3"
  },
  "language_info": {
   "codemirror_mode": {
    "name": "ipython",
    "version": 3
   },
   "file_extension": ".py",
   "mimetype": "text/x-python",
   "name": "python",
   "nbconvert_exporter": "python",
   "pygments_lexer": "ipython3",
   "version": "3.7.0b1"
  }
 },
 "nbformat": 4,
 "nbformat_minor": 2
}
