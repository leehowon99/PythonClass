{
 "cells": [
  {
   "cell_type": "code",
   "execution_count": null,
   "metadata": {},
   "outputs": [
    {
     "name": "stdout",
     "output_type": "stream",
     "text": [
      "running telegram bot ...\n"
     ]
    }
   ],
   "source": [
    "#-*- coding:utf-8 -*-\n",
    "\n",
    "import os\n",
    "import sys\n",
    "import traceback\n",
    "import tasks\n",
    "#import telegram\n",
    "from telegram.ext import Updater, Filters\n",
    "from telegram.ext import CommandHandler, ConversationHandler, MessageHandler\n",
    "\n",
    "import requests           \n",
    "from bs4 import BeautifulSoup \n",
    "import re\n",
    "\n",
    "\n",
    "def start(bot, update): \n",
    "    chat_id = update.message.chat_id \n",
    "    text = update.message.text \n",
    "    bot.send_message(chat_id=chat_id, text=\"I'm a bot, please talk to me! =4=\") \n",
    "\n",
    "def echo(bot, update): \n",
    "    chat_id = update.message.chat_id\n",
    "    text = update.message.text \n",
    "    \n",
    "    bot.send_message(chat_id=chat_id, text=text + \" 검색\")\n",
    "    bot.send_message(chat_id=chat_id, text=list(naver_blog_search(text)))\n",
    "    \n",
    "def naver_blog_search(keyword):\n",
    "    search_url = \"https://search.naver.com/search.naver\"\n",
    "    params = {\n",
    "        'where': 'post',\n",
    "        'query': keyword,\n",
    "    }\n",
    "\n",
    "    res = requests.get(search_url, params=params)\n",
    "    html = res.text\n",
    "    soup = BeautifulSoup(html, 'html.parser')\n",
    "\n",
    "    tag_list = soup.select('.sh_blog_title')\n",
    "    \n",
    "    for tag in tag_list:\n",
    "        post_url = tag['href']\n",
    "        post_title = tag['title']\n",
    "        post = {\n",
    "            'title': post_title,\n",
    "            'url': post_url,\n",
    "        }\n",
    "        yield post\n",
    "        \n",
    "        \n",
    "def main(token): \n",
    "    bot = Updater(token=TOKEN) \n",
    "\n",
    "    handler = CommandHandler('start', start) \n",
    "    bot.dispatcher.add_handler(handler) \n",
    "\n",
    "    handler = MessageHandler(Filters.text, echo) \n",
    "    bot.dispatcher.add_handler(handler) \n",
    "\n",
    "    bot.start_polling() \n",
    " \n",
    "    print('running telegram bot ...') \n",
    "    bot.idle() \n",
    "\n",
    "if __name__ == '__main__': \n",
    "    TOKEN = \"770602880:AAGQsuy3uK-H5YCHqARjPKJnsmIIddwZ8TY\" \n",
    "    if TOKEN is None: \n",
    "        print('ERROR) TELEGRAM_TOKEN을 지정해주세요.', file=sys.stderr) \n",
    "        sys.exit(1) \n",
    "    main(TOKEN) \n"
   ]
  }
 ],
 "metadata": {
  "kernelspec": {
   "display_name": "Python 3",
   "language": "python",
   "name": "python3"
  },
  "language_info": {
   "codemirror_mode": {
    "name": "ipython",
    "version": 3
   },
   "file_extension": ".py",
   "mimetype": "text/x-python",
   "name": "python",
   "nbconvert_exporter": "python",
   "pygments_lexer": "ipython3",
   "version": "3.7.0b1"
  }
 },
 "nbformat": 4,
 "nbformat_minor": 2
}
